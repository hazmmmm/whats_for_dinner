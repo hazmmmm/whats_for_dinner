{
 "cells": [
  {
   "cell_type": "markdown",
   "id": "887bd150-d8f0-4aa5-8433-b43e48dfcfc6",
   "metadata": {},
   "source": [
    "# Data preparation"
   ]
  },
  {
   "cell_type": "code",
   "execution_count": 1,
   "id": "b01f78bc-ab75-4bd7-8d48-e445e13d31e4",
   "metadata": {},
   "outputs": [],
   "source": [
    "import numpy as np\n",
    "import pandas as pd"
   ]
  },
  {
   "cell_type": "markdown",
   "id": "8e4ca8d1-3c3c-4bc6-9a66-7e211e4d6e6e",
   "metadata": {
    "tags": []
   },
   "source": [
    "## Load the datasets"
   ]
  },
  {
   "cell_type": "code",
   "execution_count": 2,
   "id": "7764a5f1-3020-48e0-bf6f-712130a7a235",
   "metadata": {},
   "outputs": [
    {
     "data": {
      "text/plain": [
       "'/home/clara/code/hazmmmm/whats_for_dinner/raw_data/food_dot_com'"
      ]
     },
     "execution_count": 2,
     "metadata": {},
     "output_type": "execute_result"
    }
   ],
   "source": [
    "import os\n",
    "os.getcwd()"
   ]
  },
  {
   "cell_type": "code",
   "execution_count": 5,
   "id": "048ed8ab-8cb2-44b5-a9af-864679728944",
   "metadata": {},
   "outputs": [
    {
     "data": {
      "text/plain": [
       "'raw_data/food_dot_com'"
      ]
     },
     "execution_count": 5,
     "metadata": {},
     "output_type": "execute_result"
    }
   ],
   "source": [
    "csv_path = os.path.join('raw_data','food_dot_com') # more robust to Linux/OS/Windows discrepencies\n",
    "csv_path"
   ]
  },
  {
   "cell_type": "markdown",
   "id": "f98eee19-a965-4c70-a61f-34c22cffc984",
   "metadata": {
    "tags": []
   },
   "source": [
    "### recipes"
   ]
  },
  {
   "cell_type": "code",
   "execution_count": 7,
   "id": "a6aa4bab-f501-493f-86ed-77c4b13d6d40",
   "metadata": {},
   "outputs": [
    {
     "data": {
      "text/html": [
       "<div>\n",
       "<style scoped>\n",
       "    .dataframe tbody tr th:only-of-type {\n",
       "        vertical-align: middle;\n",
       "    }\n",
       "\n",
       "    .dataframe tbody tr th {\n",
       "        vertical-align: top;\n",
       "    }\n",
       "\n",
       "    .dataframe thead th {\n",
       "        text-align: right;\n",
       "    }\n",
       "</style>\n",
       "<table border=\"1\" class=\"dataframe\">\n",
       "  <thead>\n",
       "    <tr style=\"text-align: right;\">\n",
       "      <th></th>\n",
       "      <th>RecipeId</th>\n",
       "      <th>Name</th>\n",
       "      <th>AuthorId</th>\n",
       "      <th>AuthorName</th>\n",
       "      <th>CookTime</th>\n",
       "      <th>PrepTime</th>\n",
       "      <th>TotalTime</th>\n",
       "      <th>DatePublished</th>\n",
       "      <th>Description</th>\n",
       "      <th>Images</th>\n",
       "      <th>...</th>\n",
       "      <th>SaturatedFatContent</th>\n",
       "      <th>CholesterolContent</th>\n",
       "      <th>SodiumContent</th>\n",
       "      <th>CarbohydrateContent</th>\n",
       "      <th>FiberContent</th>\n",
       "      <th>SugarContent</th>\n",
       "      <th>ProteinContent</th>\n",
       "      <th>RecipeServings</th>\n",
       "      <th>RecipeYield</th>\n",
       "      <th>RecipeInstructions</th>\n",
       "    </tr>\n",
       "  </thead>\n",
       "  <tbody>\n",
       "    <tr>\n",
       "      <th>0</th>\n",
       "      <td>38</td>\n",
       "      <td>Low-Fat Berry Blue Frozen Dessert</td>\n",
       "      <td>1533</td>\n",
       "      <td>Dancer</td>\n",
       "      <td>PT24H</td>\n",
       "      <td>PT45M</td>\n",
       "      <td>PT24H45M</td>\n",
       "      <td>1999-08-09T21:46:00Z</td>\n",
       "      <td>Make and share this Low-Fat Berry Blue Frozen ...</td>\n",
       "      <td>c(\"https://img.sndimg.com/food/image/upload/w_...</td>\n",
       "      <td>...</td>\n",
       "      <td>1.3</td>\n",
       "      <td>8.0</td>\n",
       "      <td>29.8</td>\n",
       "      <td>37.1</td>\n",
       "      <td>3.6</td>\n",
       "      <td>30.2</td>\n",
       "      <td>3.2</td>\n",
       "      <td>4.0</td>\n",
       "      <td>NaN</td>\n",
       "      <td>c(\"Toss 2 cups berries with sugar.\", \"Let stan...</td>\n",
       "    </tr>\n",
       "    <tr>\n",
       "      <th>1</th>\n",
       "      <td>39</td>\n",
       "      <td>Biryani</td>\n",
       "      <td>1567</td>\n",
       "      <td>elly9812</td>\n",
       "      <td>PT25M</td>\n",
       "      <td>PT4H</td>\n",
       "      <td>PT4H25M</td>\n",
       "      <td>1999-08-29T13:12:00Z</td>\n",
       "      <td>Make and share this Biryani recipe from Food.com.</td>\n",
       "      <td>c(\"https://img.sndimg.com/food/image/upload/w_...</td>\n",
       "      <td>...</td>\n",
       "      <td>16.6</td>\n",
       "      <td>372.8</td>\n",
       "      <td>368.4</td>\n",
       "      <td>84.4</td>\n",
       "      <td>9.0</td>\n",
       "      <td>20.4</td>\n",
       "      <td>63.4</td>\n",
       "      <td>6.0</td>\n",
       "      <td>NaN</td>\n",
       "      <td>c(\"Soak saffron in warm milk for 5 minutes and...</td>\n",
       "    </tr>\n",
       "    <tr>\n",
       "      <th>2</th>\n",
       "      <td>40</td>\n",
       "      <td>Best Lemonade</td>\n",
       "      <td>1566</td>\n",
       "      <td>Stephen Little</td>\n",
       "      <td>PT5M</td>\n",
       "      <td>PT30M</td>\n",
       "      <td>PT35M</td>\n",
       "      <td>1999-09-05T19:52:00Z</td>\n",
       "      <td>This is from one of my  first Good House Keepi...</td>\n",
       "      <td>c(\"https://img.sndimg.com/food/image/upload/w_...</td>\n",
       "      <td>...</td>\n",
       "      <td>0.0</td>\n",
       "      <td>0.0</td>\n",
       "      <td>1.8</td>\n",
       "      <td>81.5</td>\n",
       "      <td>0.4</td>\n",
       "      <td>77.2</td>\n",
       "      <td>0.3</td>\n",
       "      <td>4.0</td>\n",
       "      <td>NaN</td>\n",
       "      <td>c(\"Into a 1 quart Jar with tight fitting lid, ...</td>\n",
       "    </tr>\n",
       "    <tr>\n",
       "      <th>3</th>\n",
       "      <td>41</td>\n",
       "      <td>Carina's Tofu-Vegetable Kebabs</td>\n",
       "      <td>1586</td>\n",
       "      <td>Cyclopz</td>\n",
       "      <td>PT20M</td>\n",
       "      <td>PT24H</td>\n",
       "      <td>PT24H20M</td>\n",
       "      <td>1999-09-03T14:54:00Z</td>\n",
       "      <td>This dish is best prepared a day in advance to...</td>\n",
       "      <td>c(\"https://img.sndimg.com/food/image/upload/w_...</td>\n",
       "      <td>...</td>\n",
       "      <td>3.8</td>\n",
       "      <td>0.0</td>\n",
       "      <td>1558.6</td>\n",
       "      <td>64.2</td>\n",
       "      <td>17.3</td>\n",
       "      <td>32.1</td>\n",
       "      <td>29.3</td>\n",
       "      <td>2.0</td>\n",
       "      <td>4 kebabs</td>\n",
       "      <td>c(\"Drain the tofu, carefully squeezing out exc...</td>\n",
       "    </tr>\n",
       "    <tr>\n",
       "      <th>4</th>\n",
       "      <td>42</td>\n",
       "      <td>Cabbage Soup</td>\n",
       "      <td>1538</td>\n",
       "      <td>Duckie067</td>\n",
       "      <td>PT30M</td>\n",
       "      <td>PT20M</td>\n",
       "      <td>PT50M</td>\n",
       "      <td>1999-09-19T06:19:00Z</td>\n",
       "      <td>Make and share this Cabbage Soup recipe from F...</td>\n",
       "      <td>\"https://img.sndimg.com/food/image/upload/w_55...</td>\n",
       "      <td>...</td>\n",
       "      <td>0.1</td>\n",
       "      <td>0.0</td>\n",
       "      <td>959.3</td>\n",
       "      <td>25.1</td>\n",
       "      <td>4.8</td>\n",
       "      <td>17.7</td>\n",
       "      <td>4.3</td>\n",
       "      <td>4.0</td>\n",
       "      <td>NaN</td>\n",
       "      <td>c(\"Mix everything together and bring to a boil...</td>\n",
       "    </tr>\n",
       "  </tbody>\n",
       "</table>\n",
       "<p>5 rows × 28 columns</p>\n",
       "</div>"
      ],
      "text/plain": [
       "   RecipeId                               Name  AuthorId      AuthorName  \\\n",
       "0        38  Low-Fat Berry Blue Frozen Dessert      1533          Dancer   \n",
       "1        39                            Biryani      1567        elly9812   \n",
       "2        40                      Best Lemonade      1566  Stephen Little   \n",
       "3        41     Carina's Tofu-Vegetable Kebabs      1586         Cyclopz   \n",
       "4        42                       Cabbage Soup      1538       Duckie067   \n",
       "\n",
       "  CookTime PrepTime TotalTime         DatePublished  \\\n",
       "0    PT24H    PT45M  PT24H45M  1999-08-09T21:46:00Z   \n",
       "1    PT25M     PT4H   PT4H25M  1999-08-29T13:12:00Z   \n",
       "2     PT5M    PT30M     PT35M  1999-09-05T19:52:00Z   \n",
       "3    PT20M    PT24H  PT24H20M  1999-09-03T14:54:00Z   \n",
       "4    PT30M    PT20M     PT50M  1999-09-19T06:19:00Z   \n",
       "\n",
       "                                         Description  \\\n",
       "0  Make and share this Low-Fat Berry Blue Frozen ...   \n",
       "1  Make and share this Biryani recipe from Food.com.   \n",
       "2  This is from one of my  first Good House Keepi...   \n",
       "3  This dish is best prepared a day in advance to...   \n",
       "4  Make and share this Cabbage Soup recipe from F...   \n",
       "\n",
       "                                              Images  ... SaturatedFatContent  \\\n",
       "0  c(\"https://img.sndimg.com/food/image/upload/w_...  ...                 1.3   \n",
       "1  c(\"https://img.sndimg.com/food/image/upload/w_...  ...                16.6   \n",
       "2  c(\"https://img.sndimg.com/food/image/upload/w_...  ...                 0.0   \n",
       "3  c(\"https://img.sndimg.com/food/image/upload/w_...  ...                 3.8   \n",
       "4  \"https://img.sndimg.com/food/image/upload/w_55...  ...                 0.1   \n",
       "\n",
       "  CholesterolContent SodiumContent CarbohydrateContent  FiberContent  \\\n",
       "0                8.0          29.8                37.1           3.6   \n",
       "1              372.8         368.4                84.4           9.0   \n",
       "2                0.0           1.8                81.5           0.4   \n",
       "3                0.0        1558.6                64.2          17.3   \n",
       "4                0.0         959.3                25.1           4.8   \n",
       "\n",
       "   SugarContent  ProteinContent  RecipeServings  RecipeYield  \\\n",
       "0          30.2             3.2             4.0          NaN   \n",
       "1          20.4            63.4             6.0          NaN   \n",
       "2          77.2             0.3             4.0          NaN   \n",
       "3          32.1            29.3             2.0     4 kebabs   \n",
       "4          17.7             4.3             4.0          NaN   \n",
       "\n",
       "                                  RecipeInstructions  \n",
       "0  c(\"Toss 2 cups berries with sugar.\", \"Let stan...  \n",
       "1  c(\"Soak saffron in warm milk for 5 minutes and...  \n",
       "2  c(\"Into a 1 quart Jar with tight fitting lid, ...  \n",
       "3  c(\"Drain the tofu, carefully squeezing out exc...  \n",
       "4  c(\"Mix everything together and bring to a boil...  \n",
       "\n",
       "[5 rows x 28 columns]"
      ]
     },
     "execution_count": 7,
     "metadata": {},
     "output_type": "execute_result"
    }
   ],
   "source": [
    "recipes_df = pd.read_csv('recipes.csv')\n",
    "recipes_df.head()"
   ]
  },
  {
   "cell_type": "code",
   "execution_count": null,
   "id": "ad0198e5-b5f7-4b39-8ba7-2dfd74a7cfac",
   "metadata": {},
   "outputs": [],
   "source": [
    "recipes_df.info()"
   ]
  },
  {
   "cell_type": "markdown",
   "id": "726d237c-4f42-422f-8a7a-8d210b845628",
   "metadata": {
    "tags": []
   },
   "source": [
    "## reviews"
   ]
  },
  {
   "cell_type": "code",
   "execution_count": null,
   "id": "f6342220-f0e2-4692-aa04-2e57386b5e98",
   "metadata": {},
   "outputs": [],
   "source": [
    "reviews_df = pd.read_csv(os.path.join(csv_path, 'reviews.csv'))\n",
    "reviews_df.head()"
   ]
  },
  {
   "cell_type": "markdown",
   "id": "8bfcc146-7bfc-4750-8174-fd2cfb314133",
   "metadata": {},
   "source": [
    "no need to use the reviews dataset !"
   ]
  },
  {
   "cell_type": "markdown",
   "id": "17a340dd-cd94-4edc-80ab-e5a80171507f",
   "metadata": {},
   "source": [
    "## Pre-processing"
   ]
  },
  {
   "cell_type": "markdown",
   "id": "2b468c63-1cc5-436c-b9bb-a7336c436c37",
   "metadata": {
    "tags": []
   },
   "source": [
    "### Drop columns, reduce rows, and join reviews"
   ]
  },
  {
   "cell_type": "code",
   "execution_count": 8,
   "id": "69109cce-d30c-4406-971f-b8ce3f008f0f",
   "metadata": {},
   "outputs": [],
   "source": [
    "recipe_cols = ['RecipeId', 'Name', 'CookTime', 'PrepTime', 'TotalTime', 'Description', 'Images',\\\n",
    "              'RecipeCategory', 'RecipeIngredientParts', \\\n",
    "              'AggregatedRating','ReviewCount', 'Calories', 'RecipeInstructions','AuthorName']"
   ]
  },
  {
   "cell_type": "markdown",
   "id": "cb2fa0f3-d329-445c-b915-7a86eae5fa91",
   "metadata": {},
   "source": [
    "Dropping quantities because units of measure missing.\n",
    "Dropping keywords because too many missing key words"
   ]
  },
  {
   "cell_type": "code",
   "execution_count": 21,
   "id": "7a466282-bcfa-444b-8934-4bf702ece829",
   "metadata": {},
   "outputs": [],
   "source": [
    "# limit recipe entries\n",
    "rp_df = recipes_df[recipe_cols]"
   ]
  },
  {
   "cell_type": "code",
   "execution_count": 22,
   "id": "711efa94-1af7-425e-ab30-a2877838630a",
   "metadata": {},
   "outputs": [
    {
     "data": {
      "text/html": [
       "<div>\n",
       "<style scoped>\n",
       "    .dataframe tbody tr th:only-of-type {\n",
       "        vertical-align: middle;\n",
       "    }\n",
       "\n",
       "    .dataframe tbody tr th {\n",
       "        vertical-align: top;\n",
       "    }\n",
       "\n",
       "    .dataframe thead th {\n",
       "        text-align: right;\n",
       "    }\n",
       "</style>\n",
       "<table border=\"1\" class=\"dataframe\">\n",
       "  <thead>\n",
       "    <tr style=\"text-align: right;\">\n",
       "      <th></th>\n",
       "      <th>RecipeId</th>\n",
       "      <th>Name</th>\n",
       "      <th>CookTime</th>\n",
       "      <th>PrepTime</th>\n",
       "      <th>TotalTime</th>\n",
       "      <th>Description</th>\n",
       "      <th>Images</th>\n",
       "      <th>RecipeCategory</th>\n",
       "      <th>RecipeIngredientParts</th>\n",
       "      <th>AggregatedRating</th>\n",
       "      <th>ReviewCount</th>\n",
       "      <th>Calories</th>\n",
       "      <th>RecipeInstructions</th>\n",
       "      <th>AuthorName</th>\n",
       "    </tr>\n",
       "  </thead>\n",
       "  <tbody>\n",
       "    <tr>\n",
       "      <th>0</th>\n",
       "      <td>38</td>\n",
       "      <td>Low-Fat Berry Blue Frozen Dessert</td>\n",
       "      <td>PT24H</td>\n",
       "      <td>PT45M</td>\n",
       "      <td>PT24H45M</td>\n",
       "      <td>Make and share this Low-Fat Berry Blue Frozen ...</td>\n",
       "      <td>c(\"https://img.sndimg.com/food/image/upload/w_...</td>\n",
       "      <td>Frozen Desserts</td>\n",
       "      <td>c(\"blueberries\", \"granulated sugar\", \"vanilla ...</td>\n",
       "      <td>4.5</td>\n",
       "      <td>4.0</td>\n",
       "      <td>170.9</td>\n",
       "      <td>c(\"Toss 2 cups berries with sugar.\", \"Let stan...</td>\n",
       "      <td>Dancer</td>\n",
       "    </tr>\n",
       "    <tr>\n",
       "      <th>1</th>\n",
       "      <td>39</td>\n",
       "      <td>Biryani</td>\n",
       "      <td>PT25M</td>\n",
       "      <td>PT4H</td>\n",
       "      <td>PT4H25M</td>\n",
       "      <td>Make and share this Biryani recipe from Food.com.</td>\n",
       "      <td>c(\"https://img.sndimg.com/food/image/upload/w_...</td>\n",
       "      <td>Chicken Breast</td>\n",
       "      <td>c(\"saffron\", \"milk\", \"hot green chili peppers\"...</td>\n",
       "      <td>3.0</td>\n",
       "      <td>1.0</td>\n",
       "      <td>1110.7</td>\n",
       "      <td>c(\"Soak saffron in warm milk for 5 minutes and...</td>\n",
       "      <td>elly9812</td>\n",
       "    </tr>\n",
       "    <tr>\n",
       "      <th>2</th>\n",
       "      <td>40</td>\n",
       "      <td>Best Lemonade</td>\n",
       "      <td>PT5M</td>\n",
       "      <td>PT30M</td>\n",
       "      <td>PT35M</td>\n",
       "      <td>This is from one of my  first Good House Keepi...</td>\n",
       "      <td>c(\"https://img.sndimg.com/food/image/upload/w_...</td>\n",
       "      <td>Beverages</td>\n",
       "      <td>c(\"sugar\", \"lemons, rind of\", \"lemon, zest of\"...</td>\n",
       "      <td>4.5</td>\n",
       "      <td>10.0</td>\n",
       "      <td>311.1</td>\n",
       "      <td>c(\"Into a 1 quart Jar with tight fitting lid, ...</td>\n",
       "      <td>Stephen Little</td>\n",
       "    </tr>\n",
       "    <tr>\n",
       "      <th>3</th>\n",
       "      <td>41</td>\n",
       "      <td>Carina's Tofu-Vegetable Kebabs</td>\n",
       "      <td>PT20M</td>\n",
       "      <td>PT24H</td>\n",
       "      <td>PT24H20M</td>\n",
       "      <td>This dish is best prepared a day in advance to...</td>\n",
       "      <td>c(\"https://img.sndimg.com/food/image/upload/w_...</td>\n",
       "      <td>Soy/Tofu</td>\n",
       "      <td>c(\"extra firm tofu\", \"eggplant\", \"zucchini\", \"...</td>\n",
       "      <td>4.5</td>\n",
       "      <td>2.0</td>\n",
       "      <td>536.1</td>\n",
       "      <td>c(\"Drain the tofu, carefully squeezing out exc...</td>\n",
       "      <td>Cyclopz</td>\n",
       "    </tr>\n",
       "    <tr>\n",
       "      <th>4</th>\n",
       "      <td>42</td>\n",
       "      <td>Cabbage Soup</td>\n",
       "      <td>PT30M</td>\n",
       "      <td>PT20M</td>\n",
       "      <td>PT50M</td>\n",
       "      <td>Make and share this Cabbage Soup recipe from F...</td>\n",
       "      <td>\"https://img.sndimg.com/food/image/upload/w_55...</td>\n",
       "      <td>Vegetable</td>\n",
       "      <td>c(\"plain tomato juice\", \"cabbage\", \"onion\", \"c...</td>\n",
       "      <td>4.5</td>\n",
       "      <td>11.0</td>\n",
       "      <td>103.6</td>\n",
       "      <td>c(\"Mix everything together and bring to a boil...</td>\n",
       "      <td>Duckie067</td>\n",
       "    </tr>\n",
       "  </tbody>\n",
       "</table>\n",
       "</div>"
      ],
      "text/plain": [
       "   RecipeId                               Name CookTime PrepTime TotalTime  \\\n",
       "0        38  Low-Fat Berry Blue Frozen Dessert    PT24H    PT45M  PT24H45M   \n",
       "1        39                            Biryani    PT25M     PT4H   PT4H25M   \n",
       "2        40                      Best Lemonade     PT5M    PT30M     PT35M   \n",
       "3        41     Carina's Tofu-Vegetable Kebabs    PT20M    PT24H  PT24H20M   \n",
       "4        42                       Cabbage Soup    PT30M    PT20M     PT50M   \n",
       "\n",
       "                                         Description  \\\n",
       "0  Make and share this Low-Fat Berry Blue Frozen ...   \n",
       "1  Make and share this Biryani recipe from Food.com.   \n",
       "2  This is from one of my  first Good House Keepi...   \n",
       "3  This dish is best prepared a day in advance to...   \n",
       "4  Make and share this Cabbage Soup recipe from F...   \n",
       "\n",
       "                                              Images   RecipeCategory  \\\n",
       "0  c(\"https://img.sndimg.com/food/image/upload/w_...  Frozen Desserts   \n",
       "1  c(\"https://img.sndimg.com/food/image/upload/w_...   Chicken Breast   \n",
       "2  c(\"https://img.sndimg.com/food/image/upload/w_...        Beverages   \n",
       "3  c(\"https://img.sndimg.com/food/image/upload/w_...         Soy/Tofu   \n",
       "4  \"https://img.sndimg.com/food/image/upload/w_55...        Vegetable   \n",
       "\n",
       "                               RecipeIngredientParts  AggregatedRating  \\\n",
       "0  c(\"blueberries\", \"granulated sugar\", \"vanilla ...               4.5   \n",
       "1  c(\"saffron\", \"milk\", \"hot green chili peppers\"...               3.0   \n",
       "2  c(\"sugar\", \"lemons, rind of\", \"lemon, zest of\"...               4.5   \n",
       "3  c(\"extra firm tofu\", \"eggplant\", \"zucchini\", \"...               4.5   \n",
       "4  c(\"plain tomato juice\", \"cabbage\", \"onion\", \"c...               4.5   \n",
       "\n",
       "   ReviewCount  Calories                                 RecipeInstructions  \\\n",
       "0          4.0     170.9  c(\"Toss 2 cups berries with sugar.\", \"Let stan...   \n",
       "1          1.0    1110.7  c(\"Soak saffron in warm milk for 5 minutes and...   \n",
       "2         10.0     311.1  c(\"Into a 1 quart Jar with tight fitting lid, ...   \n",
       "3          2.0     536.1  c(\"Drain the tofu, carefully squeezing out exc...   \n",
       "4         11.0     103.6  c(\"Mix everything together and bring to a boil...   \n",
       "\n",
       "       AuthorName  \n",
       "0          Dancer  \n",
       "1        elly9812  \n",
       "2  Stephen Little  \n",
       "3         Cyclopz  \n",
       "4       Duckie067  "
      ]
     },
     "execution_count": 22,
     "metadata": {},
     "output_type": "execute_result"
    }
   ],
   "source": [
    "rp_df.head()"
   ]
  },
  {
   "cell_type": "markdown",
   "id": "0f35c18e-8852-4996-a207-cf617d640413",
   "metadata": {
    "tags": []
   },
   "source": [
    "#### Missing values"
   ]
  },
  {
   "cell_type": "code",
   "execution_count": 23,
   "id": "d93e9ed6-d9c6-4bb4-a8c6-64e2fb87f690",
   "metadata": {},
   "outputs": [
    {
     "name": "stdout",
     "output_type": "stream",
     "text": [
      "<class 'pandas.core.frame.DataFrame'>\n",
      "RangeIndex: 522517 entries, 0 to 522516\n",
      "Data columns (total 14 columns):\n",
      " #   Column                 Non-Null Count   Dtype  \n",
      "---  ------                 --------------   -----  \n",
      " 0   RecipeId               522517 non-null  int64  \n",
      " 1   Name                   522517 non-null  object \n",
      " 2   CookTime               439972 non-null  object \n",
      " 3   PrepTime               522517 non-null  object \n",
      " 4   TotalTime              522517 non-null  object \n",
      " 5   Description            522512 non-null  object \n",
      " 6   Images                 522516 non-null  object \n",
      " 7   RecipeCategory         521766 non-null  object \n",
      " 8   RecipeIngredientParts  522517 non-null  object \n",
      " 9   AggregatedRating       269294 non-null  float64\n",
      " 10  ReviewCount            275028 non-null  float64\n",
      " 11  Calories               522517 non-null  float64\n",
      " 12  RecipeInstructions     522517 non-null  object \n",
      " 13  AuthorName             522517 non-null  object \n",
      "dtypes: float64(3), int64(1), object(10)\n",
      "memory usage: 55.8+ MB\n"
     ]
    }
   ],
   "source": [
    "rp_df.info()"
   ]
  },
  {
   "cell_type": "code",
   "execution_count": 24,
   "id": "a9e8cd46-a0d0-40c0-ad8d-4da1a172349d",
   "metadata": {},
   "outputs": [
    {
     "data": {
      "text/plain": [
       "AggregatedRating         0.484622\n",
       "ReviewCount              0.473648\n",
       "CookTime                 0.157976\n",
       "RecipeCategory           0.001437\n",
       "Description              0.000010\n",
       "Images                   0.000002\n",
       "RecipeId                 0.000000\n",
       "Name                     0.000000\n",
       "PrepTime                 0.000000\n",
       "TotalTime                0.000000\n",
       "RecipeIngredientParts    0.000000\n",
       "Calories                 0.000000\n",
       "RecipeInstructions       0.000000\n",
       "AuthorName               0.000000\n",
       "dtype: float64"
      ]
     },
     "execution_count": 24,
     "metadata": {},
     "output_type": "execute_result"
    }
   ],
   "source": [
    "rp_df.isnull().sum().sort_values(ascending=False)/len(rp_df) #NaN percentage for each column"
   ]
  },
  {
   "cell_type": "code",
   "execution_count": 25,
   "id": "bba8c00e-c655-4526-8ebe-b486fae6848f",
   "metadata": {},
   "outputs": [
    {
     "data": {
      "text/plain": [
       "AggregatedRating         253223\n",
       "ReviewCount              247489\n",
       "CookTime                  82545\n",
       "RecipeCategory              751\n",
       "Description                   5\n",
       "Images                        1\n",
       "RecipeId                      0\n",
       "Name                          0\n",
       "PrepTime                      0\n",
       "TotalTime                     0\n",
       "RecipeIngredientParts         0\n",
       "Calories                      0\n",
       "RecipeInstructions            0\n",
       "AuthorName                    0\n",
       "dtype: int64"
      ]
     },
     "execution_count": 25,
     "metadata": {},
     "output_type": "execute_result"
    }
   ],
   "source": [
    "rp_df.isnull().sum().sort_values(ascending=False)#NaN count for each column"
   ]
  },
  {
   "cell_type": "markdown",
   "id": "e1eda7bf-729b-459d-b003-6fcf443f6e46",
   "metadata": {
    "tags": []
   },
   "source": [
    "#### Cooking time"
   ]
  },
  {
   "cell_type": "code",
   "execution_count": 26,
   "id": "2007a0cf-0ea2-4181-96ce-df2727b4a108",
   "metadata": {},
   "outputs": [
    {
     "data": {
      "text/plain": [
       "PT30M        50715\n",
       "PT20M        47998\n",
       "PT15M        44769\n",
       "PT10M        42431\n",
       "PT1H         34634\n",
       "             ...  \n",
       "PT936H           1\n",
       "PT483H45M        1\n",
       "PT150H           1\n",
       "PT1224H          1\n",
       "PT3H11M          1\n",
       "Name: CookTime, Length: 490, dtype: int64"
      ]
     },
     "execution_count": 26,
     "metadata": {},
     "output_type": "execute_result"
    }
   ],
   "source": [
    "rp_df.CookTime.value_counts()"
   ]
  },
  {
   "cell_type": "code",
   "execution_count": 27,
   "id": "b1fed391-5963-47e6-b631-1064122d6092",
   "metadata": {},
   "outputs": [
    {
     "name": "stderr",
     "output_type": "stream",
     "text": [
      "/tmp/ipykernel_4779/3046550748.py:1: SettingWithCopyWarning: \n",
      "A value is trying to be set on a copy of a slice from a DataFrame\n",
      "\n",
      "See the caveats in the documentation: https://pandas.pydata.org/pandas-docs/stable/user_guide/indexing.html#returning-a-view-versus-a-copy\n",
      "  rp_df.CookTime.replace(np.nan, '0M', inplace=True)\n"
     ]
    }
   ],
   "source": [
    "rp_df.CookTime.replace(np.nan, '0M', inplace=True)"
   ]
  },
  {
   "cell_type": "markdown",
   "id": "ef57a4a0-6ab2-4f51-a28e-7e1d815caf89",
   "metadata": {
    "tags": []
   },
   "source": [
    "#### AggregatedRating"
   ]
  },
  {
   "cell_type": "code",
   "execution_count": 28,
   "id": "9faf1730-7f57-4940-bab4-85108c12e764",
   "metadata": {},
   "outputs": [
    {
     "data": {
      "text/plain": [
       "5.0    174516\n",
       "4.0     42829\n",
       "4.5     34330\n",
       "3.0      9166\n",
       "3.5      3978\n",
       "2.0      2049\n",
       "1.0      1677\n",
       "2.5       673\n",
       "1.5        76\n",
       "Name: AggregatedRating, dtype: int64"
      ]
     },
     "execution_count": 28,
     "metadata": {},
     "output_type": "execute_result"
    }
   ],
   "source": [
    "rp_df.AggregatedRating.value_counts()"
   ]
  },
  {
   "cell_type": "code",
   "execution_count": 29,
   "id": "58d2d194-7544-4c45-9bfd-0cb9d186892f",
   "metadata": {},
   "outputs": [
    {
     "name": "stdout",
     "output_type": "stream",
     "text": [
      "0         False\n",
      "1         False\n",
      "2         False\n",
      "3         False\n",
      "4         False\n",
      "          ...  \n",
      "522512     True\n",
      "522513     True\n",
      "522514     True\n",
      "522515     True\n",
      "522516     True\n",
      "Name: AggregatedRating, Length: 522517, dtype: bool\n"
     ]
    }
   ],
   "source": [
    "print(rp_df['AggregatedRating'].isna())"
   ]
  },
  {
   "cell_type": "code",
   "execution_count": 30,
   "id": "078b68ad-02d4-426a-88b6-3651eb77facb",
   "metadata": {},
   "outputs": [
    {
     "data": {
      "text/plain": [
       "RecipeId                                                            541383\n",
       "Name                                               Spicy Baked Scotch Eggs\n",
       "CookTime                                                             PT25M\n",
       "PrepTime                                                             PT15M\n",
       "TotalTime                                                            PT40M\n",
       "Description              Great way to have hard boiled eggs and crispy,...\n",
       "Images                                                        character(0)\n",
       "RecipeCategory                                                   Breakfast\n",
       "RecipeIngredientParts    c(\"hard-boiled eggs\", \"breakfast sausage\", \"pa...\n",
       "AggregatedRating                                                       NaN\n",
       "ReviewCount                                                            NaN\n",
       "Calories                                                            1093.3\n",
       "RecipeInstructions       c(\"Mix sausage, panko, egg yolk and Wocestersh...\n",
       "AuthorName                                                    Chef LauraMD\n",
       "Name: 522516, dtype: object"
      ]
     },
     "execution_count": 30,
     "metadata": {},
     "output_type": "execute_result"
    }
   ],
   "source": [
    "rp_df.iloc[522516]"
   ]
  },
  {
   "cell_type": "code",
   "execution_count": 31,
   "id": "34052daa-c510-40b2-bc06-2128751bf68f",
   "metadata": {},
   "outputs": [
    {
     "name": "stderr",
     "output_type": "stream",
     "text": [
      "/tmp/ipykernel_4779/1072298338.py:1: SettingWithCopyWarning: \n",
      "A value is trying to be set on a copy of a slice from a DataFrame\n",
      "\n",
      "See the caveats in the documentation: https://pandas.pydata.org/pandas-docs/stable/user_guide/indexing.html#returning-a-view-versus-a-copy\n",
      "  rp_df.AggregatedRating.replace(np.nan, 0.0, inplace=True)\n"
     ]
    }
   ],
   "source": [
    "rp_df.AggregatedRating.replace(np.nan, 0.0, inplace=True)"
   ]
  },
  {
   "cell_type": "code",
   "execution_count": 32,
   "id": "0abbfcd1-5e49-4376-9bec-cb49a4bba898",
   "metadata": {},
   "outputs": [
    {
     "data": {
      "text/plain": [
       "0.0    253223\n",
       "5.0    174516\n",
       "4.0     42829\n",
       "4.5     34330\n",
       "3.0      9166\n",
       "3.5      3978\n",
       "2.0      2049\n",
       "1.0      1677\n",
       "2.5       673\n",
       "1.5        76\n",
       "Name: AggregatedRating, dtype: int64"
      ]
     },
     "execution_count": 32,
     "metadata": {},
     "output_type": "execute_result"
    }
   ],
   "source": [
    "rp_df.AggregatedRating.value_counts()"
   ]
  },
  {
   "cell_type": "markdown",
   "id": "cc660cfa-a7a5-4628-ab78-ff632e3304b2",
   "metadata": {
    "tags": []
   },
   "source": [
    "#### ReviewCount "
   ]
  },
  {
   "cell_type": "code",
   "execution_count": 33,
   "id": "b6e715a1-c98e-46c9-9755-f2fbae5ff490",
   "metadata": {},
   "outputs": [
    {
     "data": {
      "text/plain": [
       "1.0       107055\n",
       "2.0        53212\n",
       "3.0        29906\n",
       "4.0        18702\n",
       "5.0        12814\n",
       "           ...  \n",
       "401.0          1\n",
       "319.0          1\n",
       "1410.0         1\n",
       "599.0          1\n",
       "1256.0         1\n",
       "Name: ReviewCount, Length: 420, dtype: int64"
      ]
     },
     "execution_count": 33,
     "metadata": {},
     "output_type": "execute_result"
    }
   ],
   "source": [
    "rp_df.ReviewCount.value_counts()"
   ]
  },
  {
   "cell_type": "code",
   "execution_count": 34,
   "id": "18ad06ae-816b-49ff-9523-91d23b702f92",
   "metadata": {},
   "outputs": [
    {
     "name": "stderr",
     "output_type": "stream",
     "text": [
      "/tmp/ipykernel_4779/3787176838.py:1: SettingWithCopyWarning: \n",
      "A value is trying to be set on a copy of a slice from a DataFrame\n",
      "\n",
      "See the caveats in the documentation: https://pandas.pydata.org/pandas-docs/stable/user_guide/indexing.html#returning-a-view-versus-a-copy\n",
      "  rp_df.ReviewCount.replace(np.nan,0, inplace=True)\n"
     ]
    }
   ],
   "source": [
    "rp_df.ReviewCount.replace(np.nan,0, inplace=True)"
   ]
  },
  {
   "cell_type": "code",
   "execution_count": 35,
   "id": "b4f6d990-681f-4f14-9f13-6e36b92377ac",
   "metadata": {},
   "outputs": [
    {
     "data": {
      "text/plain": [
       "0.0       247489\n",
       "1.0       107055\n",
       "2.0        53212\n",
       "3.0        29906\n",
       "4.0        18702\n",
       "           ...  \n",
       "280.0          1\n",
       "365.0          1\n",
       "714.0          1\n",
       "632.0          1\n",
       "1256.0         1\n",
       "Name: ReviewCount, Length: 421, dtype: int64"
      ]
     },
     "execution_count": 35,
     "metadata": {},
     "output_type": "execute_result"
    }
   ],
   "source": [
    "rp_df.ReviewCount.value_counts()"
   ]
  },
  {
   "cell_type": "markdown",
   "id": "a5b1fd0e-73f1-4d15-aced-33912df7809a",
   "metadata": {
    "tags": []
   },
   "source": [
    "#### RecipeCategory"
   ]
  },
  {
   "cell_type": "code",
   "execution_count": 36,
   "id": "e1a1ead3-d2d1-4333-ba09-e23f2c34c5e6",
   "metadata": {},
   "outputs": [
    {
     "data": {
      "text/plain": [
       "RecipeId                                                                41\n",
       "Name                                        Carina's Tofu-Vegetable Kebabs\n",
       "CookTime                                                             PT20M\n",
       "PrepTime                                                             PT24H\n",
       "TotalTime                                                         PT24H20M\n",
       "Description              This dish is best prepared a day in advance to...\n",
       "Images                   c(\"https://img.sndimg.com/food/image/upload/w_...\n",
       "RecipeCategory                                                    Soy/Tofu\n",
       "RecipeIngredientParts    c(\"extra firm tofu\", \"eggplant\", \"zucchini\", \"...\n",
       "AggregatedRating                                                       4.5\n",
       "ReviewCount                                                            2.0\n",
       "Calories                                                             536.1\n",
       "RecipeInstructions       c(\"Drain the tofu, carefully squeezing out exc...\n",
       "AuthorName                                                         Cyclopz\n",
       "Name: 3, dtype: object"
      ]
     },
     "execution_count": 36,
     "metadata": {},
     "output_type": "execute_result"
    }
   ],
   "source": [
    "rp_df.iloc[3]"
   ]
  },
  {
   "cell_type": "markdown",
   "id": "122e13aa-3d64-4bc0-86d6-5658a63b7be5",
   "metadata": {
    "jp-MarkdownHeadingCollapsed": true,
    "tags": []
   },
   "source": [
    "\"### RecipeCategory"
   ]
  },
  {
   "cell_type": "code",
   "execution_count": 37,
   "id": "e7b45483-84a0-4606-a73f-c5159fa7a0b0",
   "metadata": {},
   "outputs": [
    {
     "data": {
      "text/plain": [
       "Dessert                 62072\n",
       "Lunch/Snacks            32586\n",
       "One Dish Meal           31345\n",
       "Vegetable               27231\n",
       "Breakfast               21101\n",
       "                        ...  \n",
       "Main Dish Casseroles        1\n",
       "Potato Soup                 1\n",
       "Broccoli Soup               1\n",
       "Apple Pie                   1\n",
       "Labor Day                   1\n",
       "Name: RecipeCategory, Length: 311, dtype: int64"
      ]
     },
     "execution_count": 37,
     "metadata": {},
     "output_type": "execute_result"
    }
   ],
   "source": [
    "rp_df.RecipeCategory.value_counts()"
   ]
  },
  {
   "cell_type": "code",
   "execution_count": 38,
   "id": "6f8ba1b8-40ff-43aa-b192-202b71500b62",
   "metadata": {},
   "outputs": [
    {
     "name": "stderr",
     "output_type": "stream",
     "text": [
      "/tmp/ipykernel_4779/1009161021.py:1: SettingWithCopyWarning: \n",
      "A value is trying to be set on a copy of a slice from a DataFrame\n",
      "\n",
      "See the caveats in the documentation: https://pandas.pydata.org/pandas-docs/stable/user_guide/indexing.html#returning-a-view-versus-a-copy\n",
      "  rp_df.RecipeCategory.replace(np.nan, 'Others', inplace=True)\n"
     ]
    }
   ],
   "source": [
    "rp_df.RecipeCategory.replace(np.nan, 'Others', inplace=True)"
   ]
  },
  {
   "cell_type": "code",
   "execution_count": 39,
   "id": "bdcc8787-5446-4e01-b4f2-ac405b01925a",
   "metadata": {},
   "outputs": [
    {
     "data": {
      "text/plain": [
       "Dessert                 62072\n",
       "Lunch/Snacks            32586\n",
       "One Dish Meal           31345\n",
       "Vegetable               27231\n",
       "Breakfast               21101\n",
       "                        ...  \n",
       "Main Dish Casseroles        1\n",
       "Potato Soup                 1\n",
       "Broccoli Soup               1\n",
       "Apple Pie                   1\n",
       "Labor Day                   1\n",
       "Name: RecipeCategory, Length: 312, dtype: int64"
      ]
     },
     "execution_count": 39,
     "metadata": {},
     "output_type": "execute_result"
    }
   ],
   "source": [
    "rp_df.RecipeCategory.value_counts()"
   ]
  },
  {
   "cell_type": "markdown",
   "id": "b7aadb2c-2a66-435b-906c-9b541d29ecd4",
   "metadata": {
    "tags": []
   },
   "source": [
    "#### Description"
   ]
  },
  {
   "cell_type": "code",
   "execution_count": 40,
   "id": "a52e929c-cff6-47e6-ae26-207012e67e6c",
   "metadata": {},
   "outputs": [
    {
     "name": "stderr",
     "output_type": "stream",
     "text": [
      "/tmp/ipykernel_4779/879482108.py:1: SettingWithCopyWarning: \n",
      "A value is trying to be set on a copy of a slice from a DataFrame\n",
      "\n",
      "See the caveats in the documentation: https://pandas.pydata.org/pandas-docs/stable/user_guide/indexing.html#returning-a-view-versus-a-copy\n",
      "  rp_df.Description.replace(np.nan, 'No description', inplace=True)\n"
     ]
    }
   ],
   "source": [
    "rp_df.Description.replace(np.nan, 'No description', inplace=True)"
   ]
  },
  {
   "cell_type": "markdown",
   "id": "458b7c67-8729-4a4d-85b8-3ca2d03d6485",
   "metadata": {
    "tags": []
   },
   "source": [
    "#### Images"
   ]
  },
  {
   "cell_type": "code",
   "execution_count": 41,
   "id": "83a93073-d04d-4de6-b7e6-ca2e0c006bc9",
   "metadata": {},
   "outputs": [],
   "source": [
    "rp_df = rp_df.dropna(subset = ['Images'])"
   ]
  },
  {
   "cell_type": "code",
   "execution_count": 42,
   "id": "a5875352-50c7-40a3-b41b-62da1874c01b",
   "metadata": {},
   "outputs": [
    {
     "data": {
      "text/plain": [
       "RecipeId                 0\n",
       "Name                     0\n",
       "CookTime                 0\n",
       "PrepTime                 0\n",
       "TotalTime                0\n",
       "Description              0\n",
       "Images                   0\n",
       "RecipeCategory           0\n",
       "RecipeIngredientParts    0\n",
       "AggregatedRating         0\n",
       "ReviewCount              0\n",
       "Calories                 0\n",
       "RecipeInstructions       0\n",
       "AuthorName               0\n",
       "dtype: int64"
      ]
     },
     "execution_count": 42,
     "metadata": {},
     "output_type": "execute_result"
    }
   ],
   "source": [
    "rp_df.isnull().sum().sort_values(ascending=False)#NaN count for each column"
   ]
  },
  {
   "cell_type": "markdown",
   "id": "50696550-b2ca-415c-88b1-48a056fef0c1",
   "metadata": {
    "tags": []
   },
   "source": [
    "### Time cleaning"
   ]
  },
  {
   "cell_type": "code",
   "execution_count": 43,
   "id": "906ccfa5-f419-440a-bb73-12099e40bb66",
   "metadata": {},
   "outputs": [
    {
     "data": {
      "text/html": [
       "<div>\n",
       "<style scoped>\n",
       "    .dataframe tbody tr th:only-of-type {\n",
       "        vertical-align: middle;\n",
       "    }\n",
       "\n",
       "    .dataframe tbody tr th {\n",
       "        vertical-align: top;\n",
       "    }\n",
       "\n",
       "    .dataframe thead th {\n",
       "        text-align: right;\n",
       "    }\n",
       "</style>\n",
       "<table border=\"1\" class=\"dataframe\">\n",
       "  <thead>\n",
       "    <tr style=\"text-align: right;\">\n",
       "      <th></th>\n",
       "      <th>RecipeId</th>\n",
       "      <th>Name</th>\n",
       "      <th>CookTime</th>\n",
       "      <th>PrepTime</th>\n",
       "      <th>TotalTime</th>\n",
       "      <th>Description</th>\n",
       "      <th>Images</th>\n",
       "      <th>RecipeCategory</th>\n",
       "      <th>RecipeIngredientParts</th>\n",
       "      <th>AggregatedRating</th>\n",
       "      <th>ReviewCount</th>\n",
       "      <th>Calories</th>\n",
       "      <th>RecipeInstructions</th>\n",
       "      <th>AuthorName</th>\n",
       "    </tr>\n",
       "  </thead>\n",
       "  <tbody>\n",
       "    <tr>\n",
       "      <th>0</th>\n",
       "      <td>38</td>\n",
       "      <td>Low-Fat Berry Blue Frozen Dessert</td>\n",
       "      <td>24H</td>\n",
       "      <td>45M</td>\n",
       "      <td>24H45M</td>\n",
       "      <td>Make and share this Low-Fat Berry Blue Frozen ...</td>\n",
       "      <td>c(\"https://img.sndimg.com/food/image/upload/w_...</td>\n",
       "      <td>Frozen Desserts</td>\n",
       "      <td>c(\"blueberries\", \"granulated sugar\", \"vanilla ...</td>\n",
       "      <td>4.5</td>\n",
       "      <td>4.0</td>\n",
       "      <td>170.9</td>\n",
       "      <td>c(\"Toss 2 cups berries with sugar.\", \"Let stan...</td>\n",
       "      <td>Dancer</td>\n",
       "    </tr>\n",
       "    <tr>\n",
       "      <th>1</th>\n",
       "      <td>39</td>\n",
       "      <td>Biryani</td>\n",
       "      <td>25M</td>\n",
       "      <td>4H</td>\n",
       "      <td>4H25M</td>\n",
       "      <td>Make and share this Biryani recipe from Food.com.</td>\n",
       "      <td>c(\"https://img.sndimg.com/food/image/upload/w_...</td>\n",
       "      <td>Chicken Breast</td>\n",
       "      <td>c(\"saffron\", \"milk\", \"hot green chili peppers\"...</td>\n",
       "      <td>3.0</td>\n",
       "      <td>1.0</td>\n",
       "      <td>1110.7</td>\n",
       "      <td>c(\"Soak saffron in warm milk for 5 minutes and...</td>\n",
       "      <td>elly9812</td>\n",
       "    </tr>\n",
       "    <tr>\n",
       "      <th>2</th>\n",
       "      <td>40</td>\n",
       "      <td>Best Lemonade</td>\n",
       "      <td>5M</td>\n",
       "      <td>30M</td>\n",
       "      <td>35M</td>\n",
       "      <td>This is from one of my  first Good House Keepi...</td>\n",
       "      <td>c(\"https://img.sndimg.com/food/image/upload/w_...</td>\n",
       "      <td>Beverages</td>\n",
       "      <td>c(\"sugar\", \"lemons, rind of\", \"lemon, zest of\"...</td>\n",
       "      <td>4.5</td>\n",
       "      <td>10.0</td>\n",
       "      <td>311.1</td>\n",
       "      <td>c(\"Into a 1 quart Jar with tight fitting lid, ...</td>\n",
       "      <td>Stephen Little</td>\n",
       "    </tr>\n",
       "    <tr>\n",
       "      <th>3</th>\n",
       "      <td>41</td>\n",
       "      <td>Carina's Tofu-Vegetable Kebabs</td>\n",
       "      <td>20M</td>\n",
       "      <td>24H</td>\n",
       "      <td>24H20M</td>\n",
       "      <td>This dish is best prepared a day in advance to...</td>\n",
       "      <td>c(\"https://img.sndimg.com/food/image/upload/w_...</td>\n",
       "      <td>Soy/Tofu</td>\n",
       "      <td>c(\"extra firm tofu\", \"eggplant\", \"zucchini\", \"...</td>\n",
       "      <td>4.5</td>\n",
       "      <td>2.0</td>\n",
       "      <td>536.1</td>\n",
       "      <td>c(\"Drain the tofu, carefully squeezing out exc...</td>\n",
       "      <td>Cyclopz</td>\n",
       "    </tr>\n",
       "    <tr>\n",
       "      <th>4</th>\n",
       "      <td>42</td>\n",
       "      <td>Cabbage Soup</td>\n",
       "      <td>30M</td>\n",
       "      <td>20M</td>\n",
       "      <td>50M</td>\n",
       "      <td>Make and share this Cabbage Soup recipe from F...</td>\n",
       "      <td>\"https://img.sndimg.com/food/image/upload/w_55...</td>\n",
       "      <td>Vegetable</td>\n",
       "      <td>c(\"plain tomato juice\", \"cabbage\", \"onion\", \"c...</td>\n",
       "      <td>4.5</td>\n",
       "      <td>11.0</td>\n",
       "      <td>103.6</td>\n",
       "      <td>c(\"Mix everything together and bring to a boil...</td>\n",
       "      <td>Duckie067</td>\n",
       "    </tr>\n",
       "  </tbody>\n",
       "</table>\n",
       "</div>"
      ],
      "text/plain": [
       "   RecipeId                               Name CookTime PrepTime TotalTime  \\\n",
       "0        38  Low-Fat Berry Blue Frozen Dessert      24H      45M    24H45M   \n",
       "1        39                            Biryani      25M       4H     4H25M   \n",
       "2        40                      Best Lemonade       5M      30M       35M   \n",
       "3        41     Carina's Tofu-Vegetable Kebabs      20M      24H    24H20M   \n",
       "4        42                       Cabbage Soup      30M      20M       50M   \n",
       "\n",
       "                                         Description  \\\n",
       "0  Make and share this Low-Fat Berry Blue Frozen ...   \n",
       "1  Make and share this Biryani recipe from Food.com.   \n",
       "2  This is from one of my  first Good House Keepi...   \n",
       "3  This dish is best prepared a day in advance to...   \n",
       "4  Make and share this Cabbage Soup recipe from F...   \n",
       "\n",
       "                                              Images   RecipeCategory  \\\n",
       "0  c(\"https://img.sndimg.com/food/image/upload/w_...  Frozen Desserts   \n",
       "1  c(\"https://img.sndimg.com/food/image/upload/w_...   Chicken Breast   \n",
       "2  c(\"https://img.sndimg.com/food/image/upload/w_...        Beverages   \n",
       "3  c(\"https://img.sndimg.com/food/image/upload/w_...         Soy/Tofu   \n",
       "4  \"https://img.sndimg.com/food/image/upload/w_55...        Vegetable   \n",
       "\n",
       "                               RecipeIngredientParts  AggregatedRating  \\\n",
       "0  c(\"blueberries\", \"granulated sugar\", \"vanilla ...               4.5   \n",
       "1  c(\"saffron\", \"milk\", \"hot green chili peppers\"...               3.0   \n",
       "2  c(\"sugar\", \"lemons, rind of\", \"lemon, zest of\"...               4.5   \n",
       "3  c(\"extra firm tofu\", \"eggplant\", \"zucchini\", \"...               4.5   \n",
       "4  c(\"plain tomato juice\", \"cabbage\", \"onion\", \"c...               4.5   \n",
       "\n",
       "   ReviewCount  Calories                                 RecipeInstructions  \\\n",
       "0          4.0     170.9  c(\"Toss 2 cups berries with sugar.\", \"Let stan...   \n",
       "1          1.0    1110.7  c(\"Soak saffron in warm milk for 5 minutes and...   \n",
       "2         10.0     311.1  c(\"Into a 1 quart Jar with tight fitting lid, ...   \n",
       "3          2.0     536.1  c(\"Drain the tofu, carefully squeezing out exc...   \n",
       "4         11.0     103.6  c(\"Mix everything together and bring to a boil...   \n",
       "\n",
       "       AuthorName  \n",
       "0          Dancer  \n",
       "1        elly9812  \n",
       "2  Stephen Little  \n",
       "3         Cyclopz  \n",
       "4       Duckie067  "
      ]
     },
     "execution_count": 43,
     "metadata": {},
     "output_type": "execute_result"
    }
   ],
   "source": [
    "rp_df['CookTime'] = rp_df['CookTime'].str.replace('PT','')\n",
    "rp_df['PrepTime'] = rp_df['PrepTime'].str.replace('PT','')\n",
    "rp_df['TotalTime'] = rp_df['TotalTime'].str.replace('PT','')\n",
    "rp_df.head()"
   ]
  },
  {
   "cell_type": "code",
   "execution_count": 44,
   "id": "4de4e987-8d9d-42af-b977-e9a520f85556",
   "metadata": {},
   "outputs": [
    {
     "data": {
      "text/html": [
       "<div>\n",
       "<style scoped>\n",
       "    .dataframe tbody tr th:only-of-type {\n",
       "        vertical-align: middle;\n",
       "    }\n",
       "\n",
       "    .dataframe tbody tr th {\n",
       "        vertical-align: top;\n",
       "    }\n",
       "\n",
       "    .dataframe thead th {\n",
       "        text-align: right;\n",
       "    }\n",
       "</style>\n",
       "<table border=\"1\" class=\"dataframe\">\n",
       "  <thead>\n",
       "    <tr style=\"text-align: right;\">\n",
       "      <th></th>\n",
       "      <th>Name</th>\n",
       "      <th>CookTime</th>\n",
       "      <th>PrepTime</th>\n",
       "      <th>TotalTime</th>\n",
       "      <th>Description</th>\n",
       "      <th>Images</th>\n",
       "      <th>RecipeCategory</th>\n",
       "      <th>RecipeIngredientParts</th>\n",
       "      <th>AggregatedRating</th>\n",
       "      <th>ReviewCount</th>\n",
       "      <th>Calories</th>\n",
       "      <th>RecipeInstructions</th>\n",
       "      <th>AuthorName</th>\n",
       "    </tr>\n",
       "  </thead>\n",
       "  <tbody>\n",
       "    <tr>\n",
       "      <th>0</th>\n",
       "      <td>Low-Fat Berry Blue Frozen Dessert</td>\n",
       "      <td>24H</td>\n",
       "      <td>45M</td>\n",
       "      <td>24H45M</td>\n",
       "      <td>Make and share this Low-Fat Berry Blue Frozen ...</td>\n",
       "      <td>c(\"https://img.sndimg.com/food/image/upload/w_...</td>\n",
       "      <td>Frozen Desserts</td>\n",
       "      <td>c(\"blueberries\", \"granulated sugar\", \"vanilla ...</td>\n",
       "      <td>4.5</td>\n",
       "      <td>4.0</td>\n",
       "      <td>170.9</td>\n",
       "      <td>c(\"Toss 2 cups berries with sugar.\", \"Let stan...</td>\n",
       "      <td>Dancer</td>\n",
       "    </tr>\n",
       "    <tr>\n",
       "      <th>1</th>\n",
       "      <td>Biryani</td>\n",
       "      <td>25M</td>\n",
       "      <td>4H</td>\n",
       "      <td>4H25M</td>\n",
       "      <td>Make and share this Biryani recipe from Food.com.</td>\n",
       "      <td>c(\"https://img.sndimg.com/food/image/upload/w_...</td>\n",
       "      <td>Chicken Breast</td>\n",
       "      <td>c(\"saffron\", \"milk\", \"hot green chili peppers\"...</td>\n",
       "      <td>3.0</td>\n",
       "      <td>1.0</td>\n",
       "      <td>1110.7</td>\n",
       "      <td>c(\"Soak saffron in warm milk for 5 minutes and...</td>\n",
       "      <td>elly9812</td>\n",
       "    </tr>\n",
       "    <tr>\n",
       "      <th>2</th>\n",
       "      <td>Best Lemonade</td>\n",
       "      <td>5M</td>\n",
       "      <td>30M</td>\n",
       "      <td>35M</td>\n",
       "      <td>This is from one of my  first Good House Keepi...</td>\n",
       "      <td>c(\"https://img.sndimg.com/food/image/upload/w_...</td>\n",
       "      <td>Beverages</td>\n",
       "      <td>c(\"sugar\", \"lemons, rind of\", \"lemon, zest of\"...</td>\n",
       "      <td>4.5</td>\n",
       "      <td>10.0</td>\n",
       "      <td>311.1</td>\n",
       "      <td>c(\"Into a 1 quart Jar with tight fitting lid, ...</td>\n",
       "      <td>Stephen Little</td>\n",
       "    </tr>\n",
       "    <tr>\n",
       "      <th>3</th>\n",
       "      <td>Carina's Tofu-Vegetable Kebabs</td>\n",
       "      <td>20M</td>\n",
       "      <td>24H</td>\n",
       "      <td>24H20M</td>\n",
       "      <td>This dish is best prepared a day in advance to...</td>\n",
       "      <td>c(\"https://img.sndimg.com/food/image/upload/w_...</td>\n",
       "      <td>Soy/Tofu</td>\n",
       "      <td>c(\"extra firm tofu\", \"eggplant\", \"zucchini\", \"...</td>\n",
       "      <td>4.5</td>\n",
       "      <td>2.0</td>\n",
       "      <td>536.1</td>\n",
       "      <td>c(\"Drain the tofu, carefully squeezing out exc...</td>\n",
       "      <td>Cyclopz</td>\n",
       "    </tr>\n",
       "    <tr>\n",
       "      <th>4</th>\n",
       "      <td>Cabbage Soup</td>\n",
       "      <td>30M</td>\n",
       "      <td>20M</td>\n",
       "      <td>50M</td>\n",
       "      <td>Make and share this Cabbage Soup recipe from F...</td>\n",
       "      <td>\"https://img.sndimg.com/food/image/upload/w_55...</td>\n",
       "      <td>Vegetable</td>\n",
       "      <td>c(\"plain tomato juice\", \"cabbage\", \"onion\", \"c...</td>\n",
       "      <td>4.5</td>\n",
       "      <td>11.0</td>\n",
       "      <td>103.6</td>\n",
       "      <td>c(\"Mix everything together and bring to a boil...</td>\n",
       "      <td>Duckie067</td>\n",
       "    </tr>\n",
       "    <tr>\n",
       "      <th>...</th>\n",
       "      <td>...</td>\n",
       "      <td>...</td>\n",
       "      <td>...</td>\n",
       "      <td>...</td>\n",
       "      <td>...</td>\n",
       "      <td>...</td>\n",
       "      <td>...</td>\n",
       "      <td>...</td>\n",
       "      <td>...</td>\n",
       "      <td>...</td>\n",
       "      <td>...</td>\n",
       "      <td>...</td>\n",
       "      <td>...</td>\n",
       "    </tr>\n",
       "    <tr>\n",
       "      <th>522512</th>\n",
       "      <td>Meg's Fresh Ginger Gingerbread</td>\n",
       "      <td>35M</td>\n",
       "      <td>1H</td>\n",
       "      <td>1H35M</td>\n",
       "      <td>Make and share this Meg's Fresh Ginger Gingerb...</td>\n",
       "      <td>character(0)</td>\n",
       "      <td>Dessert</td>\n",
       "      <td>c(\"fresh ginger\", \"unsalted butter\", \"dark bro...</td>\n",
       "      <td>0.0</td>\n",
       "      <td>0.0</td>\n",
       "      <td>316.6</td>\n",
       "      <td>c(\"Preheat oven to 350&amp;deg;F Grease an 8x8 cak...</td>\n",
       "      <td>rdsxc</td>\n",
       "    </tr>\n",
       "    <tr>\n",
       "      <th>522513</th>\n",
       "      <td>Roast Prime Rib au Poivre with Mixed Peppercorns</td>\n",
       "      <td>3H</td>\n",
       "      <td>30M</td>\n",
       "      <td>3H30M</td>\n",
       "      <td>White, black, green, and pink peppercorns add ...</td>\n",
       "      <td>\"https://img.sndimg.com/food/image/upload/w_55...</td>\n",
       "      <td>Very Low Carbs</td>\n",
       "      <td>c(\"Dijon mustard\", \"garlic\", \"peppercorns\", \"s...</td>\n",
       "      <td>0.0</td>\n",
       "      <td>0.0</td>\n",
       "      <td>2063.4</td>\n",
       "      <td>c(\"Position rack in center of oven and preheat...</td>\n",
       "      <td>Denver cooks</td>\n",
       "    </tr>\n",
       "    <tr>\n",
       "      <th>522514</th>\n",
       "      <td>Kirshwasser Ice Cream</td>\n",
       "      <td>3H</td>\n",
       "      <td>1H</td>\n",
       "      <td>4H</td>\n",
       "      <td>Make and share this Kirshwasser Ice Cream reci...</td>\n",
       "      <td>character(0)</td>\n",
       "      <td>Ice Cream</td>\n",
       "      <td>c(\"half-and-half\", \"heavy cream\", \"brandy\", \"s...</td>\n",
       "      <td>0.0</td>\n",
       "      <td>0.0</td>\n",
       "      <td>1271.3</td>\n",
       "      <td>c(\"heat half and half and heavy cream to a sim...</td>\n",
       "      <td>Jonathan F.</td>\n",
       "    </tr>\n",
       "    <tr>\n",
       "      <th>522515</th>\n",
       "      <td>Quick &amp; Easy Asian Cucumber Salmon Rolls</td>\n",
       "      <td>0M</td>\n",
       "      <td>15M</td>\n",
       "      <td>15M</td>\n",
       "      <td>Extremely quick and easy to make, these are gr...</td>\n",
       "      <td>\"https://img.sndimg.com/food/image/upload/w_55...</td>\n",
       "      <td>Canadian</td>\n",
       "      <td>c(\"wasabi paste\", \"dill\", \"English cucumber\", ...</td>\n",
       "      <td>0.0</td>\n",
       "      <td>0.0</td>\n",
       "      <td>16.1</td>\n",
       "      <td>c(\"In a small bowl, combine mayo and wasabi pa...</td>\n",
       "      <td>CLUBFOODY</td>\n",
       "    </tr>\n",
       "    <tr>\n",
       "      <th>522516</th>\n",
       "      <td>Spicy Baked Scotch Eggs</td>\n",
       "      <td>25M</td>\n",
       "      <td>15M</td>\n",
       "      <td>40M</td>\n",
       "      <td>Great way to have hard boiled eggs and crispy,...</td>\n",
       "      <td>character(0)</td>\n",
       "      <td>Breakfast</td>\n",
       "      <td>c(\"hard-boiled eggs\", \"breakfast sausage\", \"pa...</td>\n",
       "      <td>0.0</td>\n",
       "      <td>0.0</td>\n",
       "      <td>1093.3</td>\n",
       "      <td>c(\"Mix sausage, panko, egg yolk and Wocestersh...</td>\n",
       "      <td>Chef LauraMD</td>\n",
       "    </tr>\n",
       "  </tbody>\n",
       "</table>\n",
       "<p>522516 rows × 13 columns</p>\n",
       "</div>"
      ],
      "text/plain": [
       "                                                    Name CookTime PrepTime  \\\n",
       "0                      Low-Fat Berry Blue Frozen Dessert      24H      45M   \n",
       "1                                                Biryani      25M       4H   \n",
       "2                                          Best Lemonade       5M      30M   \n",
       "3                         Carina's Tofu-Vegetable Kebabs      20M      24H   \n",
       "4                                           Cabbage Soup      30M      20M   \n",
       "...                                                  ...      ...      ...   \n",
       "522512                    Meg's Fresh Ginger Gingerbread      35M       1H   \n",
       "522513  Roast Prime Rib au Poivre with Mixed Peppercorns       3H      30M   \n",
       "522514                             Kirshwasser Ice Cream       3H       1H   \n",
       "522515          Quick & Easy Asian Cucumber Salmon Rolls       0M      15M   \n",
       "522516                           Spicy Baked Scotch Eggs      25M      15M   \n",
       "\n",
       "       TotalTime                                        Description  \\\n",
       "0         24H45M  Make and share this Low-Fat Berry Blue Frozen ...   \n",
       "1          4H25M  Make and share this Biryani recipe from Food.com.   \n",
       "2            35M  This is from one of my  first Good House Keepi...   \n",
       "3         24H20M  This dish is best prepared a day in advance to...   \n",
       "4            50M  Make and share this Cabbage Soup recipe from F...   \n",
       "...          ...                                                ...   \n",
       "522512     1H35M  Make and share this Meg's Fresh Ginger Gingerb...   \n",
       "522513     3H30M  White, black, green, and pink peppercorns add ...   \n",
       "522514        4H  Make and share this Kirshwasser Ice Cream reci...   \n",
       "522515       15M  Extremely quick and easy to make, these are gr...   \n",
       "522516       40M  Great way to have hard boiled eggs and crispy,...   \n",
       "\n",
       "                                                   Images   RecipeCategory  \\\n",
       "0       c(\"https://img.sndimg.com/food/image/upload/w_...  Frozen Desserts   \n",
       "1       c(\"https://img.sndimg.com/food/image/upload/w_...   Chicken Breast   \n",
       "2       c(\"https://img.sndimg.com/food/image/upload/w_...        Beverages   \n",
       "3       c(\"https://img.sndimg.com/food/image/upload/w_...         Soy/Tofu   \n",
       "4       \"https://img.sndimg.com/food/image/upload/w_55...        Vegetable   \n",
       "...                                                   ...              ...   \n",
       "522512                                       character(0)          Dessert   \n",
       "522513  \"https://img.sndimg.com/food/image/upload/w_55...   Very Low Carbs   \n",
       "522514                                       character(0)        Ice Cream   \n",
       "522515  \"https://img.sndimg.com/food/image/upload/w_55...         Canadian   \n",
       "522516                                       character(0)        Breakfast   \n",
       "\n",
       "                                    RecipeIngredientParts  AggregatedRating  \\\n",
       "0       c(\"blueberries\", \"granulated sugar\", \"vanilla ...               4.5   \n",
       "1       c(\"saffron\", \"milk\", \"hot green chili peppers\"...               3.0   \n",
       "2       c(\"sugar\", \"lemons, rind of\", \"lemon, zest of\"...               4.5   \n",
       "3       c(\"extra firm tofu\", \"eggplant\", \"zucchini\", \"...               4.5   \n",
       "4       c(\"plain tomato juice\", \"cabbage\", \"onion\", \"c...               4.5   \n",
       "...                                                   ...               ...   \n",
       "522512  c(\"fresh ginger\", \"unsalted butter\", \"dark bro...               0.0   \n",
       "522513  c(\"Dijon mustard\", \"garlic\", \"peppercorns\", \"s...               0.0   \n",
       "522514  c(\"half-and-half\", \"heavy cream\", \"brandy\", \"s...               0.0   \n",
       "522515  c(\"wasabi paste\", \"dill\", \"English cucumber\", ...               0.0   \n",
       "522516  c(\"hard-boiled eggs\", \"breakfast sausage\", \"pa...               0.0   \n",
       "\n",
       "        ReviewCount  Calories  \\\n",
       "0               4.0     170.9   \n",
       "1               1.0    1110.7   \n",
       "2              10.0     311.1   \n",
       "3               2.0     536.1   \n",
       "4              11.0     103.6   \n",
       "...             ...       ...   \n",
       "522512          0.0     316.6   \n",
       "522513          0.0    2063.4   \n",
       "522514          0.0    1271.3   \n",
       "522515          0.0      16.1   \n",
       "522516          0.0    1093.3   \n",
       "\n",
       "                                       RecipeInstructions      AuthorName  \n",
       "0       c(\"Toss 2 cups berries with sugar.\", \"Let stan...          Dancer  \n",
       "1       c(\"Soak saffron in warm milk for 5 minutes and...        elly9812  \n",
       "2       c(\"Into a 1 quart Jar with tight fitting lid, ...  Stephen Little  \n",
       "3       c(\"Drain the tofu, carefully squeezing out exc...         Cyclopz  \n",
       "4       c(\"Mix everything together and bring to a boil...       Duckie067  \n",
       "...                                                   ...             ...  \n",
       "522512  c(\"Preheat oven to 350&deg;F Grease an 8x8 cak...           rdsxc  \n",
       "522513  c(\"Position rack in center of oven and preheat...    Denver cooks  \n",
       "522514  c(\"heat half and half and heavy cream to a sim...     Jonathan F.  \n",
       "522515  c(\"In a small bowl, combine mayo and wasabi pa...       CLUBFOODY  \n",
       "522516  c(\"Mix sausage, panko, egg yolk and Wocestersh...    Chef LauraMD  \n",
       "\n",
       "[522516 rows x 13 columns]"
      ]
     },
     "execution_count": 44,
     "metadata": {},
     "output_type": "execute_result"
    }
   ],
   "source": [
    "recipes_cleaned = rp_df.drop(columns=['RecipeId'])\n",
    "\n",
    "recipes_cleaned"
   ]
  },
  {
   "cell_type": "markdown",
   "id": "4e1eaba8-acf4-487e-9588-931d81ccfa30",
   "metadata": {
    "tags": []
   },
   "source": [
    "### Reorganize columns"
   ]
  },
  {
   "cell_type": "code",
   "execution_count": 45,
   "id": "5eb308d9-0c6a-4f23-be45-beea0163bf39",
   "metadata": {},
   "outputs": [
    {
     "name": "stdout",
     "output_type": "stream",
     "text": [
      "Name\n",
      "CookTime\n",
      "PrepTime\n",
      "TotalTime\n",
      "Description\n",
      "Images\n",
      "RecipeCategory\n",
      "RecipeIngredientParts\n",
      "AggregatedRating\n",
      "ReviewCount\n",
      "Calories\n",
      "RecipeInstructions\n",
      "AuthorName\n"
     ]
    }
   ],
   "source": [
    "for col in recipes_cleaned.columns:\n",
    "    print(col)"
   ]
  },
  {
   "cell_type": "code",
   "execution_count": 46,
   "id": "687564d0-a377-41e8-9fea-1d3b36b92b57",
   "metadata": {},
   "outputs": [
    {
     "data": {
      "text/html": [
       "<div>\n",
       "<style scoped>\n",
       "    .dataframe tbody tr th:only-of-type {\n",
       "        vertical-align: middle;\n",
       "    }\n",
       "\n",
       "    .dataframe tbody tr th {\n",
       "        vertical-align: top;\n",
       "    }\n",
       "\n",
       "    .dataframe thead th {\n",
       "        text-align: right;\n",
       "    }\n",
       "</style>\n",
       "<table border=\"1\" class=\"dataframe\">\n",
       "  <thead>\n",
       "    <tr style=\"text-align: right;\">\n",
       "      <th></th>\n",
       "      <th>Name</th>\n",
       "      <th>AuthorName</th>\n",
       "      <th>AggregatedRating</th>\n",
       "      <th>ReviewCount</th>\n",
       "      <th>Description</th>\n",
       "      <th>RecipeCategory</th>\n",
       "      <th>TotalTime</th>\n",
       "      <th>CookTime</th>\n",
       "      <th>PrepTime</th>\n",
       "      <th>Calories</th>\n",
       "      <th>RecipeIngredientParts</th>\n",
       "      <th>RecipeInstructions</th>\n",
       "      <th>Images</th>\n",
       "    </tr>\n",
       "  </thead>\n",
       "  <tbody>\n",
       "    <tr>\n",
       "      <th>0</th>\n",
       "      <td>Low-Fat Berry Blue Frozen Dessert</td>\n",
       "      <td>Dancer</td>\n",
       "      <td>4.5</td>\n",
       "      <td>4.0</td>\n",
       "      <td>Make and share this Low-Fat Berry Blue Frozen ...</td>\n",
       "      <td>Frozen Desserts</td>\n",
       "      <td>24H45M</td>\n",
       "      <td>24H</td>\n",
       "      <td>45M</td>\n",
       "      <td>170.9</td>\n",
       "      <td>c(\"blueberries\", \"granulated sugar\", \"vanilla ...</td>\n",
       "      <td>c(\"Toss 2 cups berries with sugar.\", \"Let stan...</td>\n",
       "      <td>c(\"https://img.sndimg.com/food/image/upload/w_...</td>\n",
       "    </tr>\n",
       "    <tr>\n",
       "      <th>1</th>\n",
       "      <td>Biryani</td>\n",
       "      <td>elly9812</td>\n",
       "      <td>3.0</td>\n",
       "      <td>1.0</td>\n",
       "      <td>Make and share this Biryani recipe from Food.com.</td>\n",
       "      <td>Chicken Breast</td>\n",
       "      <td>4H25M</td>\n",
       "      <td>25M</td>\n",
       "      <td>4H</td>\n",
       "      <td>1110.7</td>\n",
       "      <td>c(\"saffron\", \"milk\", \"hot green chili peppers\"...</td>\n",
       "      <td>c(\"Soak saffron in warm milk for 5 minutes and...</td>\n",
       "      <td>c(\"https://img.sndimg.com/food/image/upload/w_...</td>\n",
       "    </tr>\n",
       "    <tr>\n",
       "      <th>2</th>\n",
       "      <td>Best Lemonade</td>\n",
       "      <td>Stephen Little</td>\n",
       "      <td>4.5</td>\n",
       "      <td>10.0</td>\n",
       "      <td>This is from one of my  first Good House Keepi...</td>\n",
       "      <td>Beverages</td>\n",
       "      <td>35M</td>\n",
       "      <td>5M</td>\n",
       "      <td>30M</td>\n",
       "      <td>311.1</td>\n",
       "      <td>c(\"sugar\", \"lemons, rind of\", \"lemon, zest of\"...</td>\n",
       "      <td>c(\"Into a 1 quart Jar with tight fitting lid, ...</td>\n",
       "      <td>c(\"https://img.sndimg.com/food/image/upload/w_...</td>\n",
       "    </tr>\n",
       "    <tr>\n",
       "      <th>3</th>\n",
       "      <td>Carina's Tofu-Vegetable Kebabs</td>\n",
       "      <td>Cyclopz</td>\n",
       "      <td>4.5</td>\n",
       "      <td>2.0</td>\n",
       "      <td>This dish is best prepared a day in advance to...</td>\n",
       "      <td>Soy/Tofu</td>\n",
       "      <td>24H20M</td>\n",
       "      <td>20M</td>\n",
       "      <td>24H</td>\n",
       "      <td>536.1</td>\n",
       "      <td>c(\"extra firm tofu\", \"eggplant\", \"zucchini\", \"...</td>\n",
       "      <td>c(\"Drain the tofu, carefully squeezing out exc...</td>\n",
       "      <td>c(\"https://img.sndimg.com/food/image/upload/w_...</td>\n",
       "    </tr>\n",
       "    <tr>\n",
       "      <th>4</th>\n",
       "      <td>Cabbage Soup</td>\n",
       "      <td>Duckie067</td>\n",
       "      <td>4.5</td>\n",
       "      <td>11.0</td>\n",
       "      <td>Make and share this Cabbage Soup recipe from F...</td>\n",
       "      <td>Vegetable</td>\n",
       "      <td>50M</td>\n",
       "      <td>30M</td>\n",
       "      <td>20M</td>\n",
       "      <td>103.6</td>\n",
       "      <td>c(\"plain tomato juice\", \"cabbage\", \"onion\", \"c...</td>\n",
       "      <td>c(\"Mix everything together and bring to a boil...</td>\n",
       "      <td>\"https://img.sndimg.com/food/image/upload/w_55...</td>\n",
       "    </tr>\n",
       "    <tr>\n",
       "      <th>...</th>\n",
       "      <td>...</td>\n",
       "      <td>...</td>\n",
       "      <td>...</td>\n",
       "      <td>...</td>\n",
       "      <td>...</td>\n",
       "      <td>...</td>\n",
       "      <td>...</td>\n",
       "      <td>...</td>\n",
       "      <td>...</td>\n",
       "      <td>...</td>\n",
       "      <td>...</td>\n",
       "      <td>...</td>\n",
       "      <td>...</td>\n",
       "    </tr>\n",
       "    <tr>\n",
       "      <th>522512</th>\n",
       "      <td>Meg's Fresh Ginger Gingerbread</td>\n",
       "      <td>rdsxc</td>\n",
       "      <td>0.0</td>\n",
       "      <td>0.0</td>\n",
       "      <td>Make and share this Meg's Fresh Ginger Gingerb...</td>\n",
       "      <td>Dessert</td>\n",
       "      <td>1H35M</td>\n",
       "      <td>35M</td>\n",
       "      <td>1H</td>\n",
       "      <td>316.6</td>\n",
       "      <td>c(\"fresh ginger\", \"unsalted butter\", \"dark bro...</td>\n",
       "      <td>c(\"Preheat oven to 350&amp;deg;F Grease an 8x8 cak...</td>\n",
       "      <td>character(0)</td>\n",
       "    </tr>\n",
       "    <tr>\n",
       "      <th>522513</th>\n",
       "      <td>Roast Prime Rib au Poivre with Mixed Peppercorns</td>\n",
       "      <td>Denver cooks</td>\n",
       "      <td>0.0</td>\n",
       "      <td>0.0</td>\n",
       "      <td>White, black, green, and pink peppercorns add ...</td>\n",
       "      <td>Very Low Carbs</td>\n",
       "      <td>3H30M</td>\n",
       "      <td>3H</td>\n",
       "      <td>30M</td>\n",
       "      <td>2063.4</td>\n",
       "      <td>c(\"Dijon mustard\", \"garlic\", \"peppercorns\", \"s...</td>\n",
       "      <td>c(\"Position rack in center of oven and preheat...</td>\n",
       "      <td>\"https://img.sndimg.com/food/image/upload/w_55...</td>\n",
       "    </tr>\n",
       "    <tr>\n",
       "      <th>522514</th>\n",
       "      <td>Kirshwasser Ice Cream</td>\n",
       "      <td>Jonathan F.</td>\n",
       "      <td>0.0</td>\n",
       "      <td>0.0</td>\n",
       "      <td>Make and share this Kirshwasser Ice Cream reci...</td>\n",
       "      <td>Ice Cream</td>\n",
       "      <td>4H</td>\n",
       "      <td>3H</td>\n",
       "      <td>1H</td>\n",
       "      <td>1271.3</td>\n",
       "      <td>c(\"half-and-half\", \"heavy cream\", \"brandy\", \"s...</td>\n",
       "      <td>c(\"heat half and half and heavy cream to a sim...</td>\n",
       "      <td>character(0)</td>\n",
       "    </tr>\n",
       "    <tr>\n",
       "      <th>522515</th>\n",
       "      <td>Quick &amp; Easy Asian Cucumber Salmon Rolls</td>\n",
       "      <td>CLUBFOODY</td>\n",
       "      <td>0.0</td>\n",
       "      <td>0.0</td>\n",
       "      <td>Extremely quick and easy to make, these are gr...</td>\n",
       "      <td>Canadian</td>\n",
       "      <td>15M</td>\n",
       "      <td>0M</td>\n",
       "      <td>15M</td>\n",
       "      <td>16.1</td>\n",
       "      <td>c(\"wasabi paste\", \"dill\", \"English cucumber\", ...</td>\n",
       "      <td>c(\"In a small bowl, combine mayo and wasabi pa...</td>\n",
       "      <td>\"https://img.sndimg.com/food/image/upload/w_55...</td>\n",
       "    </tr>\n",
       "    <tr>\n",
       "      <th>522516</th>\n",
       "      <td>Spicy Baked Scotch Eggs</td>\n",
       "      <td>Chef LauraMD</td>\n",
       "      <td>0.0</td>\n",
       "      <td>0.0</td>\n",
       "      <td>Great way to have hard boiled eggs and crispy,...</td>\n",
       "      <td>Breakfast</td>\n",
       "      <td>40M</td>\n",
       "      <td>25M</td>\n",
       "      <td>15M</td>\n",
       "      <td>1093.3</td>\n",
       "      <td>c(\"hard-boiled eggs\", \"breakfast sausage\", \"pa...</td>\n",
       "      <td>c(\"Mix sausage, panko, egg yolk and Wocestersh...</td>\n",
       "      <td>character(0)</td>\n",
       "    </tr>\n",
       "  </tbody>\n",
       "</table>\n",
       "<p>522516 rows × 13 columns</p>\n",
       "</div>"
      ],
      "text/plain": [
       "                                                    Name      AuthorName  \\\n",
       "0                      Low-Fat Berry Blue Frozen Dessert          Dancer   \n",
       "1                                                Biryani        elly9812   \n",
       "2                                          Best Lemonade  Stephen Little   \n",
       "3                         Carina's Tofu-Vegetable Kebabs         Cyclopz   \n",
       "4                                           Cabbage Soup       Duckie067   \n",
       "...                                                  ...             ...   \n",
       "522512                    Meg's Fresh Ginger Gingerbread           rdsxc   \n",
       "522513  Roast Prime Rib au Poivre with Mixed Peppercorns    Denver cooks   \n",
       "522514                             Kirshwasser Ice Cream     Jonathan F.   \n",
       "522515          Quick & Easy Asian Cucumber Salmon Rolls       CLUBFOODY   \n",
       "522516                           Spicy Baked Scotch Eggs    Chef LauraMD   \n",
       "\n",
       "        AggregatedRating  ReviewCount  \\\n",
       "0                    4.5          4.0   \n",
       "1                    3.0          1.0   \n",
       "2                    4.5         10.0   \n",
       "3                    4.5          2.0   \n",
       "4                    4.5         11.0   \n",
       "...                  ...          ...   \n",
       "522512               0.0          0.0   \n",
       "522513               0.0          0.0   \n",
       "522514               0.0          0.0   \n",
       "522515               0.0          0.0   \n",
       "522516               0.0          0.0   \n",
       "\n",
       "                                              Description   RecipeCategory  \\\n",
       "0       Make and share this Low-Fat Berry Blue Frozen ...  Frozen Desserts   \n",
       "1       Make and share this Biryani recipe from Food.com.   Chicken Breast   \n",
       "2       This is from one of my  first Good House Keepi...        Beverages   \n",
       "3       This dish is best prepared a day in advance to...         Soy/Tofu   \n",
       "4       Make and share this Cabbage Soup recipe from F...        Vegetable   \n",
       "...                                                   ...              ...   \n",
       "522512  Make and share this Meg's Fresh Ginger Gingerb...          Dessert   \n",
       "522513  White, black, green, and pink peppercorns add ...   Very Low Carbs   \n",
       "522514  Make and share this Kirshwasser Ice Cream reci...        Ice Cream   \n",
       "522515  Extremely quick and easy to make, these are gr...         Canadian   \n",
       "522516  Great way to have hard boiled eggs and crispy,...        Breakfast   \n",
       "\n",
       "       TotalTime CookTime PrepTime  Calories  \\\n",
       "0         24H45M      24H      45M     170.9   \n",
       "1          4H25M      25M       4H    1110.7   \n",
       "2            35M       5M      30M     311.1   \n",
       "3         24H20M      20M      24H     536.1   \n",
       "4            50M      30M      20M     103.6   \n",
       "...          ...      ...      ...       ...   \n",
       "522512     1H35M      35M       1H     316.6   \n",
       "522513     3H30M       3H      30M    2063.4   \n",
       "522514        4H       3H       1H    1271.3   \n",
       "522515       15M       0M      15M      16.1   \n",
       "522516       40M      25M      15M    1093.3   \n",
       "\n",
       "                                    RecipeIngredientParts  \\\n",
       "0       c(\"blueberries\", \"granulated sugar\", \"vanilla ...   \n",
       "1       c(\"saffron\", \"milk\", \"hot green chili peppers\"...   \n",
       "2       c(\"sugar\", \"lemons, rind of\", \"lemon, zest of\"...   \n",
       "3       c(\"extra firm tofu\", \"eggplant\", \"zucchini\", \"...   \n",
       "4       c(\"plain tomato juice\", \"cabbage\", \"onion\", \"c...   \n",
       "...                                                   ...   \n",
       "522512  c(\"fresh ginger\", \"unsalted butter\", \"dark bro...   \n",
       "522513  c(\"Dijon mustard\", \"garlic\", \"peppercorns\", \"s...   \n",
       "522514  c(\"half-and-half\", \"heavy cream\", \"brandy\", \"s...   \n",
       "522515  c(\"wasabi paste\", \"dill\", \"English cucumber\", ...   \n",
       "522516  c(\"hard-boiled eggs\", \"breakfast sausage\", \"pa...   \n",
       "\n",
       "                                       RecipeInstructions  \\\n",
       "0       c(\"Toss 2 cups berries with sugar.\", \"Let stan...   \n",
       "1       c(\"Soak saffron in warm milk for 5 minutes and...   \n",
       "2       c(\"Into a 1 quart Jar with tight fitting lid, ...   \n",
       "3       c(\"Drain the tofu, carefully squeezing out exc...   \n",
       "4       c(\"Mix everything together and bring to a boil...   \n",
       "...                                                   ...   \n",
       "522512  c(\"Preheat oven to 350&deg;F Grease an 8x8 cak...   \n",
       "522513  c(\"Position rack in center of oven and preheat...   \n",
       "522514  c(\"heat half and half and heavy cream to a sim...   \n",
       "522515  c(\"In a small bowl, combine mayo and wasabi pa...   \n",
       "522516  c(\"Mix sausage, panko, egg yolk and Wocestersh...   \n",
       "\n",
       "                                                   Images  \n",
       "0       c(\"https://img.sndimg.com/food/image/upload/w_...  \n",
       "1       c(\"https://img.sndimg.com/food/image/upload/w_...  \n",
       "2       c(\"https://img.sndimg.com/food/image/upload/w_...  \n",
       "3       c(\"https://img.sndimg.com/food/image/upload/w_...  \n",
       "4       \"https://img.sndimg.com/food/image/upload/w_55...  \n",
       "...                                                   ...  \n",
       "522512                                       character(0)  \n",
       "522513  \"https://img.sndimg.com/food/image/upload/w_55...  \n",
       "522514                                       character(0)  \n",
       "522515  \"https://img.sndimg.com/food/image/upload/w_55...  \n",
       "522516                                       character(0)  \n",
       "\n",
       "[522516 rows x 13 columns]"
      ]
     },
     "execution_count": 46,
     "metadata": {},
     "output_type": "execute_result"
    }
   ],
   "source": [
    "recipes_cleaned = recipes_cleaned[['Name','AuthorName','AggregatedRating','ReviewCount','Description','RecipeCategory','TotalTime','CookTime','PrepTime','Calories','RecipeIngredientParts','RecipeInstructions','Images']]\n",
    "recipes_cleaned"
   ]
  },
  {
   "cell_type": "markdown",
   "id": "85b7c936-a2f1-403d-b1b8-d38bbda829d5",
   "metadata": {},
   "source": [
    "# Saving the CSV"
   ]
  },
  {
   "cell_type": "code",
   "execution_count": 49,
   "id": "11defdb6-92a4-4c96-af83-431e52017b27",
   "metadata": {},
   "outputs": [],
   "source": [
    "recipes_cleaned.to_csv(\"../recipes_cleaned.csv\")"
   ]
  },
  {
   "cell_type": "code",
   "execution_count": 48,
   "id": "db223cd9-e907-4b5e-a0d2-570b5c9bd3db",
   "metadata": {},
   "outputs": [
    {
     "data": {
      "text/plain": [
       "'/home/clara/code/hazmmmm/whats_for_dinner/raw_data/food_dot_com'"
      ]
     },
     "execution_count": 48,
     "metadata": {},
     "output_type": "execute_result"
    }
   ],
   "source": [
    "pwd"
   ]
  },
  {
   "cell_type": "code",
   "execution_count": null,
   "id": "9e0c1452-3102-43ea-b05a-30a20a45e558",
   "metadata": {},
   "outputs": [],
   "source": []
  }
 ],
 "metadata": {
  "kernelspec": {
   "display_name": "Python 3 (ipykernel)",
   "language": "python",
   "name": "python3"
  },
  "language_info": {
   "codemirror_mode": {
    "name": "ipython",
    "version": 3
   },
   "file_extension": ".py",
   "mimetype": "text/x-python",
   "name": "python",
   "nbconvert_exporter": "python",
   "pygments_lexer": "ipython3",
   "version": "3.8.12"
  }
 },
 "nbformat": 4,
 "nbformat_minor": 5
}
